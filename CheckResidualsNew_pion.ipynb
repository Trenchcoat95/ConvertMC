{
 "cells": [
  {
   "cell_type": "code",
   "execution_count": null,
   "id": "ethical-summit",
   "metadata": {},
   "outputs": [],
   "source": [
    "import numpy as np\n",
    "import pandas as pd\n",
    "import matplotlib.pyplot as plt\n",
    "from array import array\n",
    "import os\n",
    "import sys\n",
    "import ROOT\n",
    "import Plot_func \n",
    "from ROOT import TVectorD, TMatrix, TMath, TVector3, TGraphErrors, TFile, TTree, gRandom, gPad, gROOT, gVirtualX, kTRUE, kRed, TProfile, gStyle,  TFile, gSystem\n",
    "import sys \n",
    "import os\n",
    "sys.path.append(os.path.abspath(\"/home/federico/Documents/Universita/Federico_2020-2021/Aliwork/fastMCKalman/fastMCKalman/MC/\"))\n",
    "from fastSimulation import *"
   ]
  },
  {
   "attachments": {},
   "cell_type": "markdown",
   "id": "f1e087ee",
   "metadata": {},
   "source": [
    "# Reading the files"
   ]
  },
  {
   "cell_type": "code",
   "execution_count": null,
   "id": "toxic-celebration",
   "metadata": {},
   "outputs": [],
   "source": [
    "folder=\"/home/federico/Documents/Universita/Federico_2020-2021/Aliwork/ConvertMC/\"\n",
    "Recotype = \"FullRecoInteraction\"\n",
    "Interaction = True\n",
    "ParamTypesave = \"InRot\"\n",
    "Particletype = \"_muon\"\n",
    "ParamStType = \"\"\n",
    "if(ParamTypesave==\"InRot\") : ParamStType = \"NoRot\"\n",
    "\n",
    "sample = \"\"\n",
    "inputData = folder+Recotype+\"/fastParticle211.list\"\n",
    "ROOT.initTreeFast(inputData)\n",
    "tree = ROOT.treeFast\n",
    "treeSeed = ROOT.treeSeed\n"
   ]
  },
  {
   "attachments": {},
   "cell_type": "markdown",
   "id": "95e3bbb8",
   "metadata": {},
   "source": [
    "## ALICE Reconstruction residuals"
   ]
  },
  {
   "cell_type": "code",
   "execution_count": null,
   "id": "4f780825",
   "metadata": {},
   "outputs": [],
   "source": [
    "save0 =folder+Recotype+\"/Plots/\"+sample+ParamTypesave+\"ALICEResp0.png\"\n",
    "save1 =folder+Recotype+\"/Plots/\"+sample+ParamTypesave+\"ALICEResp1.png\"\n",
    "save2 =folder+Recotype+\"/Plots/\"+sample+ParamTypesave+\"ALICEResp2.png\"\n",
    "save3 =folder+Recotype+\"/Plots/\"+sample+ParamTypesave+\"ALICEResp3.png\"\n",
    "save4 =folder+Recotype+\"/Plots/\"+sample+ParamTypesave+\"ALICEResp4.png\"\n",
    "savep2gaus =folder+Recotype+\"/Plots/\"+sample+ParamTypesave+\"ALICEResp_doublegaus.png\"\n",
    "savep =folder+Recotype+\"/Plots/\"+sample+ParamTypesave+\"ALICEResp_gaus.png\"\n",
    "rangeuser = [0,2500,0,4000,0,2000,0,1600,0,800,0,4500,0,1250]\n",
    "if(Interaction) : rangeuser = [0,3000,0,4000,0,2000,0,1800,0,800,0,2400,0,2400]\n",
    "plimits = \"30,-0.3,0.3\"\n",
    "ParamType=\"fParamInRot[0]\"\n",
    "\n",
    "Plot_func.Plot_residuals(tree,ParamType,save0,save1,save2,save3,save4,savep2gaus,savep,rangeuser,\"&&fParamMC@.size()>50\",plimits)"
   ]
  },
  {
   "attachments": {},
   "cell_type": "markdown",
   "id": "445afa95",
   "metadata": {},
   "source": [
    "## GArSoft Recounstruction Residuals"
   ]
  },
  {
   "cell_type": "code",
   "execution_count": null,
   "id": "82ceff7f",
   "metadata": {},
   "outputs": [],
   "source": [
    "save0 =folder+Recotype+\"/Plots/\"+sample+ParamTypesave+\"GArSoftResp0.png\"\n",
    "save1 =folder+Recotype+\"/Plots/\"+sample+ParamTypesave+\"GArSoftResp1.png\"\n",
    "save2 =folder+Recotype+\"/Plots/\"+sample+ParamTypesave+\"GArSoftResp2.png\"\n",
    "save3 =folder+Recotype+\"/Plots/\"+sample+ParamTypesave+\"GArSoftResp3.png\"\n",
    "save4 =folder+Recotype+\"/Plots/\"+sample+ParamTypesave+\"GArSoftResp4.png\"\n",
    "savep2gaus =folder+Recotype+\"/Plots/\"+sample+ParamTypesave+\"GArSoftResp_doublegaus.png\"\n",
    "savep =folder+Recotype+\"/Plots/\"+sample+ParamTypesave+\"GArSoftResp_gaus.png\"\n",
    "ParamType=\"paramSt\"\n",
    "\n",
    "Plot_func.Plot_residuals(tree,ParamType,save0,save1,save2,save3,save4,savep2gaus,savep,rangeuser,\"&&fParamMC@.size()>50\",plimits)"
   ]
  },
  {
   "attachments": {},
   "cell_type": "markdown",
   "id": "a69f6fb9",
   "metadata": {},
   "source": [
    "### Check problematic sample"
   ]
  },
  {
   "cell_type": "code",
   "execution_count": null,
   "id": "ac0819f4",
   "metadata": {},
   "outputs": [],
   "source": [
    "ROOT.gStyle.SetOptFit(kTRUE)\n",
    "ROOT.gStyle.SetOptStat(0)\n",
    "tree.Draw(\"(fParamMC[0].GetP()-fParamInRot[0].GetP())/fParamMC[0].GetP()>>htempp50(100,-1,1)\",\"fParamInRot[0].fP[4]!=0&&fParamMC[0].fP[4]!=0&&fParamMC@.size()<50\",\"\")\n",
    "hp50 = ROOT.gPad.GetPrimitive(\"htempp50\")\n",
    "hp50.SetFillColor(ROOT.kRed)\n",
    "hp50.SetLineColor(ROOT.kRed)\n",
    "hp50.SetFillStyle(3002)\n",
    "tree.Draw(\"(fParamMC[0].GetP()-fParamInRot[0].GetP())/fParamMC[0].GetP()>>htempp(100,-1,1)\",\"fParamInRot[0].fP[4]!=0&&fParamMC[0].fP[4]!=0\",\"\")\n",
    "hp = ROOT.gPad.GetPrimitive(\"htempp\")\n",
    "hp.SetTitle(\"ALICE momentum p residual;(p_{reco}-p_{MC})/p_{MC};n\")\n",
    "hqp = ROOT.TCanvas(\"hqp\",\"hqp\",800,600)\n",
    "hp.Draw()\n",
    "hp.GetYaxis().SetRangeUser(0,2700)\n",
    "hp50.Draw(\"same\")\n",
    "legend = ROOT.TLegend(0.6,0.75,0.88,0.88)\n",
    "legend.SetBorderSize(0)\n",
    "legend.AddEntry(hp,\"Full sample : \"+str(int(hp.GetEntries())),\"f\")\n",
    "legend.AddEntry(hp50,\"NPoints < 50 : \"+str(int(hp50.GetEntries())),\"f\")\n",
    "legend.Draw()   \n",
    "hqp.Draw()\n",
    "\n"
   ]
  },
  {
   "cell_type": "code",
   "execution_count": null,
   "id": "936894a6",
   "metadata": {},
   "outputs": [],
   "source": [
    "ROOT.gStyle.SetOptFit(kTRUE)\n",
    "ROOT.gStyle.SetOptStat(0)\n",
    "tree.Draw(\"(fParamMC[0].GetP()-paramSt.GetP())/fParamMC[0].GetP()>>htempp502(100,-1,1)\",\"fParamMC[0].fP[4]!=0&&fParamMC@.size()<50&&paramSt.fP[4]!=0\",\"\")\n",
    "hp502 = ROOT.gPad.GetPrimitive(\"htempp502\")\n",
    "hp502.SetFillColor(ROOT.kRed)\n",
    "hp502.SetLineColor(ROOT.kRed)\n",
    "hp502.SetFillStyle(3002)\n",
    "tree.Draw(\"(fParamMC[0].GetP()-paramSt.GetP())/fParamMC[0].GetP()>>htempp2(100,-1,1)\",\"fParamMC[0].fP[4]!=0&&paramSt.fP[4]!=0\",\"\")\n",
    "hp2 = ROOT.gPad.GetPrimitive(\"htempp2\")\n",
    "hp2.SetTitle(\"GArSoft momentum p residual;(p_{reco}-p_{MC})/p_{MC};n\")\n",
    "hqp2 = ROOT.TCanvas(\"hqp2\",\"hqp2\",800,600)\n",
    "hp2.Draw()\n",
    "hp2.GetYaxis().SetRangeUser(0,2700)\n",
    "hp502.Draw(\"same\")\n",
    "legend2 = ROOT.TLegend(0.6,0.75,0.88,0.88)\n",
    "legend2.SetBorderSize(0)\n",
    "legend2.AddEntry(hp2,\"Full sample : \"+str(int(hp2.GetEntries())),\"f\")\n",
    "legend2.AddEntry(hp502,\"NPoints < 50 : \"+str(int(hp502.GetEntries())),\"f\")\n",
    "legend2.Draw()  \n",
    "hqp2.Draw()"
   ]
  },
  {
   "cell_type": "code",
   "execution_count": null,
   "id": "1547159d",
   "metadata": {},
   "outputs": [],
   "source": [
    "ROOT.gStyle.SetOptFit(kTRUE)\n",
    "ROOT.gStyle.SetOptStat(0)\n",
    "ROOT.gStyle.SetOptFit(1)\n",
    "tree.Draw(\"(fParamMC[0].GetP()-fParamInRot[0].GetP())/fParamMC[0].GetP()>>htempp50(100,-1,1)\",\"fParamInRot[0].fP[4]!=0&&fParamMC[0].fP[4]!=0&&fParamMC@.size()<50&&paramSt.fP[4]!=0\",\"\")\n",
    "hp50 = ROOT.gPad.GetPrimitive(\"htempp50\")\n",
    "hp50.SetFillColor(ROOT.kRed)\n",
    "hp50.SetLineColor(ROOT.kRed)\n",
    "hp50.SetFillStyle(3002)\n",
    "hp50.SetTitle(\"ALICE momentum p residual (NPoints<50);(p_{reco}-p_{MC})/p_{MC};n\")\n",
    "hp50.GetYaxis().SetRangeUser(0,1200)\n",
    "hqp = ROOT.TCanvas(\"hqp\",\"hqp\",800,600)\n",
    "hp50.Draw()\n",
    "hp50.Fit(\"gaus\",\"\",\"\",-0.6,0.6)\n",
    "hqp.Draw()"
   ]
  },
  {
   "cell_type": "code",
   "execution_count": null,
   "id": "8c80d394",
   "metadata": {},
   "outputs": [],
   "source": [
    "ROOT.gStyle.SetOptFit(kTRUE)\n",
    "ROOT.gStyle.SetOptStat(0)\n",
    "ROOT.gStyle.SetOptFit(1)\n",
    "tree.Draw(\"(fParamMC[0].GetP()-paramSt.GetP())/fParamMC[0].GetP()>>htempp50(100,-1,1)\",\"fParamInRot[0].fP[4]!=0&&fParamMC[0].fP[4]!=0&&fParamMC@.size()<50&&paramSt.fP[4]!=0\",\"\")\n",
    "hp50 = ROOT.gPad.GetPrimitive(\"htempp50\")\n",
    "hp50.SetFillColor(ROOT.kRed)\n",
    "hp50.SetLineColor(ROOT.kRed)\n",
    "hp50.SetFillStyle(3002)\n",
    "hp50.SetTitle(\"GArSoft momentum p residual (NPoints<50);(p_{reco}-p_{MC})/p_{MC};n\")\n",
    "hp50.GetYaxis().SetRangeUser(0,1200)\n",
    "hqp = ROOT.TCanvas(\"hqp\",\"hqp\",800,600)\n",
    "hp50.Draw()\n",
    "hp50.Fit(\"gaus\",\"\",\"\",-0.6,0.6)\n",
    "hqp.Draw()"
   ]
  },
  {
   "cell_type": "code",
   "execution_count": null,
   "id": "0316f684",
   "metadata": {},
   "outputs": [],
   "source": [
    "ROOT.gStyle.SetOptFit(kTRUE)\n",
    "ROOT.gStyle.SetOptStat(0)\n",
    "ROOT.gStyle.SetOptFit(1)\n",
    "tree.Draw(\"fParamMC[0].GetP()>>htempp50(100,0,6)\",\"fParamInRot[0].fP[4]!=0&&fParamMC[0].fP[4]!=0&&fParamMC@.size()<50&&paramSt.fP[4]!=0\",\"\")\n",
    "hp50 = ROOT.gPad.GetPrimitive(\"htempp50\")\n",
    "hp50.SetFillColor(ROOT.kRed)\n",
    "hp50.SetLineColor(ROOT.kRed)\n",
    "hp50.SetFillStyle(3002)\n",
    "hp50.SetTitle(\"Momentum distribution (NPoints<50);p_{MC};n\")\n",
    "#hp50.GetYaxis().SetRangeUser(0,1200)\n",
    "hqp = ROOT.TCanvas(\"hqp\",\"hqp\",800,600)\n",
    "hp50.Draw()\n",
    "#hp50.Fit(\"gaus\",\"\",\"\",-0.6,0.6)\n",
    "hqp.Draw()"
   ]
  },
  {
   "cell_type": "code",
   "execution_count": null,
   "id": "5f1486cf",
   "metadata": {},
   "outputs": [],
   "source": [
    "ROOT.gStyle.SetOptFit(kTRUE)\n",
    "ROOT.gStyle.SetOptStat(0)\n",
    "ROOT.gStyle.SetOptFit(1)\n",
    "tree.Draw(\"fParamMC[0].GetP()>>htempp50(100,0,6)\",\"fParamInRot[0].fP[4]!=0&&fParamMC[0].fP[4]!=0&&fParamMC@.size()>50&&paramSt.fP[4]!=0\",\"\")\n",
    "hp50 = ROOT.gPad.GetPrimitive(\"htempp50\")\n",
    "hp50.SetFillColor(ROOT.kBlue)\n",
    "hp50.SetLineColor(ROOT.kBlue)\n",
    "hp50.SetFillStyle(3002)\n",
    "hp50.SetTitle(\"Momentum distribution (NPoints>50);p_{MC};n\")\n",
    "#hp50.GetYaxis().SetRangeUser(0,1200)\n",
    "hqp = ROOT.TCanvas(\"hqp\",\"hqp\",800,600)\n",
    "hp50.Draw()\n",
    "#hp50.Fit(\"gaus\",\"\",\"\",-0.6,0.6)\n",
    "hqp.Draw()"
   ]
  },
  {
   "cell_type": "code",
   "execution_count": null,
   "id": "bf11f7cb",
   "metadata": {},
   "outputs": [],
   "source": [
    "tree.SetAlias(\"yend\",\"part.fParamMC[fParamMC@.size()-1].fX*sin(part.fParamMC[fParamMC@.size()-1].fAlpha)+part.fParamMC[fParamMC@.size()-1].fP[0]*cos(part.fParamMC[fParamMC@.size()-1].fAlpha)\")\n",
    "tree.SetAlias(\"ystart\",\"part.fParamMC[0].fX*sin(part.fParamMC[0].fAlpha)+part.fParamMC[0].fP[0]*cos(part.fParamMC[0].fAlpha)\")\n",
    "tree.SetAlias(\"xend\",\"part.fParamMC[fParamMC@.size()-1].fX*cos(part.fParamMC[fParamMC@.size()-1].fAlpha)-part.fParamMC[fParamMC@.size()-1].fP[0]*sin(part.fParamMC[fParamMC@.size()-1].fAlpha)\")\n",
    "tree.SetAlias(\"xstart\",\"part.fParamMC[0].fX*cos(part.fParamMC[0].fAlpha)-part.fParamMC[0].fP[0]*sin(part.fParamMC[0].fAlpha)\")\n",
    "tree.SetAlias(\"lArmMC\",\"sqrt((xend-xstart)*(xend-xstart)+(yend-ystart)*(yend-ystart))\")\n",
    "\n",
    "tree.Draw(\"lArmMC>>htempp50(100,0,500)\",\"fParamInRot[0].fP[4]!=0&&fParamMC[0].fP[4]!=0&&fParamMC@.size()>50&&paramSt.fP[4]!=0\",\"\")\n",
    "hp50 = ROOT.gPad.GetPrimitive(\"htempp50\")\n",
    "hp50.SetFillColor(ROOT.kBlue)\n",
    "hp50.SetLineColor(ROOT.kBlue)\n",
    "hp50.SetFillStyle(3002)\n",
    "hp50.SetTitle(\"LArm distribution (NPoints>50);LArm_{MC};n\")\n",
    "#hp50.GetYaxis().SetRangeUser(0,1200)\n",
    "hqp = ROOT.TCanvas(\"hqp\",\"hqp\",800,600)\n",
    "hp50.Draw()\n",
    "#hp50.Fit(\"gaus\",\"\",\"\",-0.6,0.6)\n",
    "hqp.Draw()"
   ]
  },
  {
   "cell_type": "code",
   "execution_count": null,
   "id": "de5240d1",
   "metadata": {},
   "outputs": [],
   "source": [
    "tree.SetAlias(\"yend\",\"part.fParamMC[fParamMC@.size()-1].fX*sin(part.fParamMC[fParamMC@.size()-1].fAlpha)+part.fParamMC[fParamMC@.size()-1].fP[0]*cos(part.fParamMC[fParamMC@.size()-1].fAlpha)\")\n",
    "tree.SetAlias(\"ystart\",\"part.fParamMC[0].fX*sin(part.fParamMC[0].fAlpha)+part.fParamMC[0].fP[0]*cos(part.fParamMC[0].fAlpha)\")\n",
    "tree.SetAlias(\"xend\",\"part.fParamMC[fParamMC@.size()-1].fX*cos(part.fParamMC[fParamMC@.size()-1].fAlpha)-part.fParamMC[fParamMC@.size()-1].fP[0]*sin(part.fParamMC[fParamMC@.size()-1].fAlpha)\")\n",
    "tree.SetAlias(\"xstart\",\"part.fParamMC[0].fX*cos(part.fParamMC[0].fAlpha)-part.fParamMC[0].fP[0]*sin(part.fParamMC[0].fAlpha)\")\n",
    "tree.SetAlias(\"lArmMC\",\"sqrt((xend-xstart)*(xend-xstart)+(yend-ystart)*(yend-ystart))\")\n",
    "\n",
    "tree.Draw(\"lArmMC>>htempp50(100,0,500)\",\"fParamInRot[0].fP[4]!=0&&fParamMC[0].fP[4]!=0&&fParamMC@.size()<50&&paramSt.fP[4]!=0\",\"\")\n",
    "hp50 = ROOT.gPad.GetPrimitive(\"htempp50\")\n",
    "hp50.SetFillColor(ROOT.kRed)\n",
    "hp50.SetLineColor(ROOT.kRed)\n",
    "hp50.SetFillStyle(3002)\n",
    "hp50.SetTitle(\"LArm distribution (NPoints<50);LArm_{MC};n\")\n",
    "#hp50.GetYaxis().SetRangeUser(0,1200)\n",
    "hqp = ROOT.TCanvas(\"hqp\",\"hqp\",800,600)\n",
    "hp50.Draw()\n",
    "#hp50.Fit(\"gaus\",\"\",\"\",-0.6,0.6)\n",
    "hqp.Draw()"
   ]
  },
  {
   "cell_type": "code",
   "execution_count": null,
   "id": "2aae2195",
   "metadata": {},
   "outputs": [],
   "source": [
    "tree.SetAlias(\"yend\",\"part.fParamMC[fParamMC@.size()-1].fX*sin(part.fParamMC[fParamMC@.size()-1].fAlpha)+part.fParamMC[fParamMC@.size()-1].fP[0]*cos(part.fParamMC[fParamMC@.size()-1].fAlpha)\")\n",
    "tree.SetAlias(\"ystart\",\"part.fParamMC[0].fX*sin(part.fParamMC[0].fAlpha)+part.fParamMC[0].fP[0]*cos(part.fParamMC[0].fAlpha)\")\n",
    "tree.SetAlias(\"xend\",\"part.fParamMC[fParamMC@.size()-1].fX*cos(part.fParamMC[fParamMC@.size()-1].fAlpha)-part.fParamMC[fParamMC@.size()-1].fP[0]*sin(part.fParamMC[fParamMC@.size()-1].fAlpha)\")\n",
    "tree.SetAlias(\"xstart\",\"part.fParamMC[0].fX*cos(part.fParamMC[0].fAlpha)-part.fParamMC[0].fP[0]*sin(part.fParamMC[0].fAlpha)\")\n",
    "tree.SetAlias(\"lArmMC\",\"sqrt((xend-xstart)*(xend-xstart)+(yend-ystart)*(yend-ystart))\")\n",
    "\n",
    "ROOT.gStyle.SetOptFit(kTRUE)\n",
    "ROOT.gStyle.SetOptStat(0)\n",
    "\n",
    "hp50.SetTitle(\"Momentum VS LArm distribution (NPoints>50);p_{MC};LArm;n\")\n",
    "\n",
    "hqp = ROOT.TCanvas(\"hqp\",\"hqp\",800,600)\n",
    "tree.Draw(\"lArmMC:fParamMC[0].GetP()>>h(100,0,6,100,0,1000)\",\"fParamInRot[0].fP[4]!=0&&fParamMC[0].fP[4]!=0&&fParamMC@.size()>50&&paramSt.fP[4]!=0\",\"prof\")\n",
    "h = ROOT.gPad.GetPrimitive(\"h\")\n",
    "h.SetTitle(\"LArm VS momentum;p_{MC} (GeV/c);LArm_{MC} (cm)\")\n",
    "hqp.Draw()"
   ]
  },
  {
   "cell_type": "code",
   "execution_count": null,
   "id": "1be293cc",
   "metadata": {},
   "outputs": [],
   "source": [
    "tree.SetAlias(\"yend\",\"part.fParamMC[fParamMC@.size()-1].fX*sin(part.fParamMC[fParamMC@.size()-1].fAlpha)+part.fParamMC[fParamMC@.size()-1].fP[0]*cos(part.fParamMC[fParamMC@.size()-1].fAlpha)\")\n",
    "tree.SetAlias(\"ystart\",\"part.fParamMC[0].fX*sin(part.fParamMC[0].fAlpha)+part.fParamMC[0].fP[0]*cos(part.fParamMC[0].fAlpha)\")\n",
    "tree.SetAlias(\"xend\",\"part.fParamMC[fParamMC@.size()-1].fX*cos(part.fParamMC[fParamMC@.size()-1].fAlpha)-part.fParamMC[fParamMC@.size()-1].fP[0]*sin(part.fParamMC[fParamMC@.size()-1].fAlpha)\")\n",
    "tree.SetAlias(\"xstart\",\"part.fParamMC[0].fX*cos(part.fParamMC[0].fAlpha)-part.fParamMC[0].fP[0]*sin(part.fParamMC[0].fAlpha)\")\n",
    "tree.SetAlias(\"lArmMC\",\"sqrt((xend-xstart)*(xend-xstart)+(yend-ystart)*(yend-ystart))\")\n",
    "\n",
    "ROOT.gStyle.SetOptFit(kTRUE)\n",
    "ROOT.gStyle.SetOptStat(0)\n",
    "\n",
    "hp50.SetTitle(\"Momentum VS LArm distribution (NPoints>50);p_{MC};LArm;n\")\n",
    "\n",
    "hqp = ROOT.TCanvas(\"hqp\",\"hqp\",800,600)\n",
    "tree.Draw(\"fParamMC[0].GetP():lArmMC>>h(50,0,500,100,0,6)\",\"fParamInRot[0].fP[4]!=0&&fParamMC[0].fP[4]!=0&&fParamMC@.size()>50&&paramSt.fP[4]!=0\",\"prof\")\n",
    "h = ROOT.gPad.GetPrimitive(\"h\")\n",
    "h.SetTitle(\"momentum VS lArmMC;LArm_{MC} (cm);p_{MC} (GeV/c)\")\n",
    "hqp.Draw()"
   ]
  },
  {
   "cell_type": "code",
   "execution_count": null,
   "id": "bbae6c02",
   "metadata": {},
   "outputs": [],
   "source": [
    "tree.SetAlias(\"yend\",\"part.fParamMC[fParamMC@.size()-1].fX*sin(part.fParamMC[fParamMC@.size()-1].fAlpha)+part.fParamMC[fParamMC@.size()-1].fP[0]*cos(part.fParamMC[fParamMC@.size()-1].fAlpha)\")\n",
    "tree.SetAlias(\"ystart\",\"part.fParamMC[0].fX*sin(part.fParamMC[0].fAlpha)+part.fParamMC[0].fP[0]*cos(part.fParamMC[0].fAlpha)\")\n",
    "tree.SetAlias(\"xend\",\"part.fParamMC[fParamMC@.size()-1].fX*cos(part.fParamMC[fParamMC@.size()-1].fAlpha)-part.fParamMC[fParamMC@.size()-1].fP[0]*sin(part.fParamMC[fParamMC@.size()-1].fAlpha)\")\n",
    "tree.SetAlias(\"xstart\",\"part.fParamMC[0].fX*cos(part.fParamMC[0].fAlpha)-part.fParamMC[0].fP[0]*sin(part.fParamMC[0].fAlpha)\")\n",
    "tree.SetAlias(\"lArmMC\",\"sqrt((xend-xstart)*(xend-xstart)+(yend-ystart)*(yend-ystart))\")\n",
    "\n",
    "ROOT.gStyle.SetOptFit(kTRUE)\n",
    "ROOT.gStyle.SetOptStat(0)\n",
    "\n",
    "hp50.SetTitle(\"Momentum VS L distribution (NPoints>50);p_{MC};L (cm);n\")\n",
    "\n",
    "hqp = ROOT.TCanvas(\"hqp\",\"hqp\",800,600)\n",
    "tree.Draw(\"fParamMC[0].GetP():fLengthInRot>>h(50,0,750,100,0,6)\",\"fParamInRot[0].fP[4]!=0&&fParamMC[0].fP[4]!=0&&fParamMC@.size()>50&&paramSt.fP[4]!=0\",\"prof\")\n",
    "h = ROOT.gPad.GetPrimitive(\"h\")\n",
    "h.SetTitle(\"momentum VS Length;L_{MC} (cm);p_{MC} (GeV/c)\")\n",
    "hqp.Draw()"
   ]
  },
  {
   "cell_type": "code",
   "execution_count": null,
   "id": "03f93c50",
   "metadata": {},
   "outputs": [],
   "source": [
    "ROOT.gStyle.SetOptFit(kTRUE)\n",
    "ROOT.gStyle.SetOptStat(0)\n",
    "\n",
    "hp50.SetTitle(\"Momentum VS L distribution (NPoints>50);p_{MC};L (cm);n\")\n",
    "\n",
    "hqp = ROOT.TCanvas(\"hqp\",\"hqp\",800,600)\n",
    "tree.Draw(\"fParamMC[0].GetP():fParamMC@.size()>>h(50,0,750,100,0,6)\",\"fParamInRot[0].fP[4]!=0&&fParamMC[0].fP[4]!=0&&fParamMC@.size()>50&&paramSt.fP[4]!=0\",\"prof\")\n",
    "h = ROOT.gPad.GetPrimitive(\"h\")\n",
    "h.SetTitle(\"momentum VS NPoints;NPoints_{MC};p_{MC} (GeV/c)\")\n",
    "hqp.Draw()"
   ]
  },
  {
   "cell_type": "code",
   "execution_count": null,
   "id": "8b7c9b16",
   "metadata": {},
   "outputs": [],
   "source": [
    "tree.SetAlias(\"yend\",\"part.fParamMC[fParamMC@.size()-1].fX*sin(part.fParamMC[fParamMC@.size()-1].fAlpha)+part.fParamMC[fParamMC@.size()-1].fP[0]*cos(part.fParamMC[fParamMC@.size()-1].fAlpha)\")\n",
    "tree.SetAlias(\"ystart\",\"part.fParamMC[0].fX*sin(part.fParamMC[0].fAlpha)+part.fParamMC[0].fP[0]*cos(part.fParamMC[0].fAlpha)\")\n",
    "tree.SetAlias(\"xend\",\"part.fParamMC[fParamMC@.size()-1].fX*cos(part.fParamMC[fParamMC@.size()-1].fAlpha)-part.fParamMC[fParamMC@.size()-1].fP[0]*sin(part.fParamMC[fParamMC@.size()-1].fAlpha)\")\n",
    "tree.SetAlias(\"xstart\",\"part.fParamMC[0].fX*cos(part.fParamMC[0].fAlpha)-part.fParamMC[0].fP[0]*sin(part.fParamMC[0].fAlpha)\")\n",
    "tree.SetAlias(\"lArmMC\",\"sqrt((xend-xstart)*(xend-xstart)+(yend-ystart)*(yend-ystart))\")\n",
    "\n",
    "ROOT.gStyle.SetOptFit(kTRUE)\n",
    "ROOT.gStyle.SetOptStat(0)\n",
    "\n",
    "hp50.SetTitle(\"Momentum VS LArm distribution (NPoints>50);p_{MC};LArm;n\")\n",
    "\n",
    "hqp = ROOT.TCanvas(\"hqp\",\"hqp\",800,600)\n",
    "tree.Draw(\"fLengthInRot:fParamMC[0].GetP()>>h(100,0,6,100,0,1000)\",\"fParamInRot[0].fP[4]!=0&&fParamMC[0].fP[4]!=0&&fParamMC@.size()>50&&paramSt.fP[4]!=0\",\"colz\")\n",
    "h = ROOT.gPad.GetPrimitive(\"h\")\n",
    "h.SetTitle(\"Length VS momentum;p_{MC} (GeV/c);Length_{MC} (cm)\")\n",
    "hqp.Draw()"
   ]
  },
  {
   "cell_type": "code",
   "execution_count": null,
   "id": "f97ee149",
   "metadata": {},
   "outputs": [],
   "source": [
    "ROOT.gStyle.SetOptFit(kTRUE)\n",
    "ROOT.gStyle.SetOptStat(0)\n",
    "\n",
    "hp50.SetTitle(\"Momentum VS LArm distribution (NPoints>50);p_{MC};LArm;n\")\n",
    "tree.SetAlias(\"Radius0MC\",\"1/abs(part.fParamMC[0].fP[4]*5*0.0003)\")\n",
    "hqp = ROOT.TCanvas(\"hqp\",\"hqp\",800,600)\n",
    "tree.Draw(\"fLengthInRot/(2*TMath::Pi()*Radius0MC):fParamMC[0].GetP()>>h(100,0,6,100,0,2.5)\",\"fParamInRot[0].fP[4]!=0&&fParamMC[0].fP[4]!=0&&fParamMC@.size()>50&&paramSt.fP[4]!=0\",\"colz\")\n",
    "h = ROOT.gPad.GetPrimitive(\"h\")\n",
    "h.SetTitle(\"Length/ (2#pir) VS momentum;p_{MC} (GeV/c);Length/ (2#pir)\")\n",
    "hqp.Draw()"
   ]
  },
  {
   "cell_type": "code",
   "execution_count": null,
   "id": "f6a05cd4",
   "metadata": {},
   "outputs": [],
   "source": [
    "ROOT.gStyle.SetOptFit(kTRUE)\n",
    "ROOT.gStyle.SetOptStat(0)\n",
    "\n",
    "hp50.SetTitle(\"Momentum VS LArm distribution (NPoints>50);p_{MC};LArm;n\")\n",
    "tree.SetAlias(\"Radius0MC\",\"1/abs(part.fParamMC[0].fP[4]*5*0.0003)\")\n",
    "hqp = ROOT.TCanvas(\"hqp\",\"hqp\",800,600)\n",
    "tree.Draw(\"fLengthInRot/(2*TMath::Pi()*Radius0MC):fParamMC@.size()>>h(100,0,700,100,0,1000)\",\"fParamInRot[0].fP[4]!=0&&fParamMC[0].fP[4]!=0&&fParamMC@.size()>50&&paramSt.fP[4]!=0\",\"prof\")\n",
    "h = ROOT.gPad.GetPrimitive(\"h\")\n",
    "h.SetTitle(\"Length/ (2#pir) VS NPoints;NPoints (GeV/c);Length/ (2#pir)\")\n",
    "hqp.Draw()"
   ]
  },
  {
   "cell_type": "code",
   "execution_count": null,
   "id": "e5d88c93",
   "metadata": {},
   "outputs": [],
   "source": [
    "ROOT.gStyle.SetOptFit(kTRUE)\n",
    "ROOT.gStyle.SetOptStat(0)\n",
    "\n",
    "hp50.SetTitle(\"Momentum VS LArm distribution (NPoints>50);p_{MC};LArm;n\")\n",
    "tree.SetAlias(\"Radius0MC\",\"1/abs(part.fParamMC[0].fP[4]*5*0.0003)\")\n",
    "hqp = ROOT.TCanvas(\"hqp\",\"hqp\",800,600)\n",
    "tree.Draw(\"fLengthInRot:fParamMC@.size()>>h(100,0,700,100,0,1000)\",\"fParamInRot[0].fP[4]!=0&&fParamMC[0].fP[4]!=0&&paramSt.fP[4]!=0\",\"colz\")\n",
    "h = ROOT.gPad.GetPrimitive(\"h\")\n",
    "h.SetTitle(\"LengthVS NPoints;NPoints (GeV/c);Length\")\n",
    "hqp.Draw()\n",
    "\n",
    "hqp2 = ROOT.TCanvas(\"hqp2\",\"hqp2\",800,600)\n",
    "tree.Draw(\"fLengthInRot:fParamMC@.size()>>h2(100,0,700,100,0,1000)\",\"fParamInRot[0].fP[4]!=0&&fParamMC[0].fP[4]!=0&&paramSt.fP[4]!=0\",\"prof\")\n",
    "h2 = ROOT.gPad.GetPrimitive(\"h2\")\n",
    "h2.SetTitle(\"LengthVS NPoints;NPoints (GeV/c);Length\")\n",
    "hqp2.Draw()"
   ]
  },
  {
   "cell_type": "code",
   "execution_count": null,
   "id": "b253dfe6",
   "metadata": {},
   "outputs": [],
   "source": []
  }
 ],
 "metadata": {
  "kernelspec": {
   "display_name": "Python 3 (ipykernel)",
   "language": "python",
   "name": "python3"
  },
  "language_info": {
   "codemirror_mode": {
    "name": "ipython",
    "version": 3
   },
   "file_extension": ".py",
   "mimetype": "text/x-python",
   "name": "python",
   "nbconvert_exporter": "python",
   "pygments_lexer": "ipython3",
   "version": "3.10.6"
  },
  "vscode": {
   "interpreter": {
    "hash": "916dbcbb3f70747c44a77c7bcd40155683ae19c65e1c03b4aa3499c5328201f1"
   }
  }
 },
 "nbformat": 4,
 "nbformat_minor": 5
}
