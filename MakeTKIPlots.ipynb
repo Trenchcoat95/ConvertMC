{
 "cells": [
  {
   "cell_type": "code",
   "execution_count": null,
   "metadata": {},
   "outputs": [],
   "source": [
    "import ROOT\n",
    "FileName = \"/home/federico/Documents/Universita/Federico_2020-2021/Aliwork/ConvertMC/FullRecoInteractionTKI/TKIFileOutMC.root\"\n",
    "File = ROOT.TFile(FileName)\n",
    "Interaction = \"numuCC\"\n",
    "MC_Reco = \"MC\"\n",
    "Fit = \"Fit\"\n",
    "Scale = \"(normalized to H)\"\n",
    "Threetracks = \"\"\n",
    "if(MC_Reco != \"Reco\") : Threetracks = \"+X\""
   ]
  },
  {
   "cell_type": "code",
   "execution_count": null,
   "metadata": {},
   "outputs": [],
   "source": [
    "HistoH = File.Get(\"anaplots/dpTT_\"+Interaction+\"_H\")\n",
    "evH = HistoH.GetEntries()\n",
    "HistoH.SetTitle(\";#deltap_{TT} (MeV/c);Counts / (\"+\"%0.0f\"%HistoH.GetBinWidth(0)+\" MeV/c)\")\n",
    "HistoH.SetLineColor(ROOT.kBlue)\n",
    "fran = ROOT.TF1(\"fran\", \"[0]*TMath::CauchyDist(x,[1],[2])\", -400, 400)\n",
    "fran.SetParameter(2,0.2)\n",
    "\n",
    "c = ROOT.TCanvas(\"c\",\"c\",800,600)\n",
    "ROOT.gStyle.SetOptStat(0)\n",
    "ROOT.gStyle.SetOptFit(0)\n",
    "\n",
    "\n",
    "HistoH.Draw(\"HISTO\")\n",
    "\n",
    "\n",
    "    \n",
    "HistoH.Fit(\"fran\",\"\",\"L\",-90,90)\n",
    "if Fit==\"Fit\" : fran.Draw(\"same\")\n",
    "fran.SetLineColor(ROOT.kBlue)\n",
    "\n",
    "legend = ROOT.TLegend(0.62,0.63,0.9,0.85)\n",
    "legend.SetBorderSize(0)\n",
    "Interaction_formula = \"(a)      #nu_{#mu}+A#rightarrow#mu^{-}+p+#pi^{+}\"+Threetracks\n",
    "if Interaction == \"anumuCC\": Interaction_formula = \"(b)      #bar{#nu}_{#mu}+A#rightarrow#mu^{+}+p+#pi^{-}\"+Threetracks\n",
    "legend.SetHeader(Interaction_formula)\n",
    "legend.AddEntry(0,\"K.E. > 3 MeV\",\"\")\n",
    "legend.AddEntry(0,\"\",\"\")\n",
    "legend.AddEntry(HistoH,\"H : \"+\"%0.0f\"%evH+\" events\",\"f\")\n",
    "legend.Draw()\n",
    "\n",
    "legend2 = ROOT.TLegend(0.15,0.52,0.35,0.85)\n",
    "legend2.SetBorderSize(0)\n",
    "Formula = \" f = #frac{K#sigma}{#sigma^{2}+(#deltap_{TT}-m)^{2}}\"\n",
    "legend2.AddEntry(fran,Formula,\"l\")\n",
    "legend2.AddEntry(0,\" K = \"+\"%0.0f\"%fran.GetParameter(0)+\" #pm \"\"%0.0f\"% fran.GetParError(0),\"\")\n",
    "legend2.AddEntry(0,\" m = \"+\"%0.0f\"%fran.GetParameter(1)+\" #pm \"\"%0.0f\"% fran.GetParError(1),\"\")\n",
    "legend2.AddEntry(0,\" #sigma = \"+\"%0.0f\"%fran.GetParameter(2)+\" #pm \"\"%0.0f\"% fran.GetParError(2),\"\")\n",
    "#legend2.AddEntry(0,\" B = \"+\"%0.1f\"%fran.GetParameter(3)+\" #pm \"\"%0.1f\"% fran.GetParError(3),\"\")\n",
    "legend2.AddEntry(0,\" #chi^{2} / N.D.F. = \"+\"%0.0f\"%fran.GetChisquare()+\" / \"\"%0.0f\"% fran.GetNDF(),\"\")\n",
    "if (Fit==\"Fit\") : legend2.Draw(\"same\")\n",
    "\n",
    "c.Draw()\n",
    "scalesuffix = \"\"\n",
    "if(Scale==\"(normalized to H)\"): scalesuffix= \"_Scaled\"\n",
    "c.SaveAs(\"/home/federico/Documents/Universita/Federico_2020-2021/Aliwork/ConvertMC/FullRecoInteractionTKI/Plots/\"+MC_Reco+\"_dpTT_\"+Interaction+\"_\"+Fit+scalesuffix+\".png\")"
   ]
  },
  {
   "cell_type": "code",
   "execution_count": null,
   "metadata": {},
   "outputs": [],
   "source": []
  }
 ],
 "metadata": {
  "kernelspec": {
   "display_name": "Python 3",
   "language": "python",
   "name": "python3"
  },
  "language_info": {
   "codemirror_mode": {
    "name": "ipython",
    "version": 3
   },
   "file_extension": ".py",
   "mimetype": "text/x-python",
   "name": "python",
   "nbconvert_exporter": "python",
   "pygments_lexer": "ipython3",
   "version": "3.10.6"
  },
  "orig_nbformat": 4
 },
 "nbformat": 4,
 "nbformat_minor": 2
}
