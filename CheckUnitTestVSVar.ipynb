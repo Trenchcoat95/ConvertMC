{
 "cells": [
  {
   "cell_type": "code",
   "execution_count": null,
   "id": "ethical-summit",
   "metadata": {},
   "outputs": [],
   "source": [
    "import numpy as np\n",
    "import pandas as pd\n",
    "import matplotlib.pyplot as plt\n",
    "from array import array\n",
    "import os\n",
    "import sys\n",
    "import ROOT\n",
    "from Plot_func import Plot_prof_Unit \n",
    "from ROOT import TVectorD, TMatrix, TMath, TVector3, TGraphErrors, TFile, TTree, gRandom, gPad, gROOT, gVirtualX, kTRUE, kRed, TProfile, gStyle,  TFile, gSystem\n",
    "import sys \n",
    "import os\n",
    "sys.path.append(os.path.abspath(\"/home/federico/Documents/Universita/Federico_2020-2021/Aliwork/fastMCKalman/fastMCKalman/MC/\"))\n",
    "from fastSimulation import *"
   ]
  },
  {
   "attachments": {},
   "cell_type": "markdown",
   "id": "f1e087ee",
   "metadata": {},
   "source": [
    "# Reading the files"
   ]
  },
  {
   "cell_type": "code",
   "execution_count": null,
   "id": "toxic-celebration",
   "metadata": {},
   "outputs": [],
   "source": [
    "folder=\"/home/federico/Documents/Universita/Federico_2020-2021/Aliwork/ConvertMC/\"\n",
    "Recotype = \"FullRecoInteractionIdeal\"\n",
    "Interaction = True\n",
    "ParamType = \"InRot\"\n",
    "Particletype = \"_muon\"\n",
    "ParamStType = \"\"\n",
    "if(ParamType==\"InRot\") : ParamStType = \"NoRot\"\n",
    "\n",
    "sample = \"Rangetest_\"\n",
    "inputData = folder+Recotype+\"/fastParticle.list\"\n",
    "ROOT.initTreeFast(inputData)\n",
    "tree = ROOT.treeFast\n",
    "treeSeed = ROOT.treeSeed\n"
   ]
  },
  {
   "attachments": {},
   "cell_type": "markdown",
   "id": "d93efa0a",
   "metadata": {},
   "source": [
    "## Unit Test"
   ]
  },
  {
   "attachments": {},
   "cell_type": "markdown",
   "id": "fa66b503",
   "metadata": {},
   "source": [
    "### Seed\n"
   ]
  },
  {
   "cell_type": "code",
   "execution_count": null,
   "id": "2d16b371",
   "metadata": {},
   "outputs": [],
   "source": [
    "cseed0 = ROOT.TCanvas(\"cseed0\",\"cseed0\",800,600)\n",
    "treeSeed.SetAlias(\"unitSeed0\",\"(seed.fP[0]-input.fP[0])/sqrt(seed.fC[0])\")\n",
    "treeSeed.Draw(\"unitSeed0>>htempseed0(100,-6,6)\",\"\")\n",
    "hseed0 = ROOT.gPad.GetPrimitive(\"htempseed0\")\n",
    "hseed0.SetTitle(\";(p0_{MC}-p0_{reco})/sqrt(C00); n_{ev}\")\n",
    "hseed0.Fit(\"gaus\")\n",
    "hseed0.Draw()\n",
    "cseed0.Draw()\n",
    "cseed0.SaveAs(folder+Recotype+\"/Plots/\"+sample+ParamType+\"UnitSeed0.png\")\n",
    "\n",
    "cseed1 = ROOT.TCanvas(\"cseed1\",\"cseed1\",800,600)\n",
    "treeSeed.SetAlias(\"unitSeed1\",\"(seed.fP[1]-input.fP[1])/sqrt(seed.fC[2])\")\n",
    "treeSeed.Draw(\"unitSeed1>>htempseed1(100,-6,6)\",\"\")\n",
    "hseed1 = ROOT.gPad.GetPrimitive(\"htempseed1\")\n",
    "hseed1.SetTitle(\";(p1_{MC}-p1_{reco})/sqrt(C11); n_{ev}\")\n",
    "hseed1.Fit(\"gaus\")\n",
    "hseed1.Draw()\n",
    "cseed1.Draw()\n",
    "cseed1.SaveAs(folder+Recotype+\"/Plots/\"+sample+ParamType+\"UnitSeed1.png\")\n",
    "\n",
    "\n",
    "cseed2 = ROOT.TCanvas(\"cseed2\",\"cseed2\",800,600)\n",
    "treeSeed.SetAlias(\"unitSeed2\",\"(seed.fP[2]-input.fP[2])/sqrt(seed.fC[5])\")\n",
    "treeSeed.Draw(\"unitSeed2>>htempseed2(100,-6,6)\",\"\")\n",
    "hseed2 = ROOT.gPad.GetPrimitive(\"htempseed2\")\n",
    "hseed2.SetTitle(\";(p2_{MC}-p2_{reco})/sqrt(C22); n_{ev}\")\n",
    "hseed2.Fit(\"gaus\")\n",
    "hseed2.Draw()\n",
    "cseed2.Draw()\n",
    "cseed2.SaveAs(folder+Recotype+\"/Plots/\"+sample+ParamType+\"UnitSeed2.png\")\n",
    "\n",
    "\n",
    "cseed3 = ROOT.TCanvas(\"cseed3\",\"cseed3\",800,600)\n",
    "treeSeed.SetAlias(\"unitSeed3\",\"(seed.fP[3]-input.fP[3])/sqrt(seed.fC[9])\")\n",
    "treeSeed.Draw(\"unitSeed3>>htempseed3(100,-6,6)\",\"\")\n",
    "hseed3 = ROOT.gPad.GetPrimitive(\"htempseed3\")\n",
    "hseed3.SetTitle(\";(p3_{MC}-p3_{reco})/sqrt(C33); n_{ev}\")\n",
    "hseed3.Fit(\"gaus\")\n",
    "hseed3.Draw()\n",
    "cseed3.Draw()\n",
    "cseed3.SaveAs(folder+Recotype+\"/Plots/\"+sample+ParamType+\"UnitSeed3.png\")\n",
    "\n",
    "\n",
    "cseed4 = ROOT.TCanvas(\"cseed4\",\"cseed4\",800,600)\n",
    "treeSeed.SetAlias(\"unitSeed4\",\"(seed.fP[4]-input.fP[4])/sqrt(seed.fC[14])\")\n",
    "treeSeed.Draw(\"unitSeed4>>htempseed4(100,-6,6)\",\"step<200\")\n",
    "hseed4 = ROOT.gPad.GetPrimitive(\"htempseed4\")\n",
    "hseed4.SetTitle(\";(p4_{MC}-p4_{reco})/sqrt(C44); n_{ev}\")\n",
    "hseed4.Fit(\"gaus\")\n",
    "hseed4.Draw()\n",
    "cseed4.Draw()\n",
    "cseed4.SaveAs(folder+Recotype+\"/Plots/\"+sample+ParamType+\"UnitSeed4.png\")"
   ]
  },
  {
   "attachments": {},
   "cell_type": "markdown",
   "id": "662e4afb",
   "metadata": {},
   "source": [
    "### Kalman Filter"
   ]
  },
  {
   "cell_type": "code",
   "execution_count": null,
   "id": "a6cd3493",
   "metadata": {},
   "outputs": [],
   "source": [
    "ROOT.gStyle.SetOptStat(1)\n",
    "ROOT.gStyle.SetOptFit(1)\n",
    "cu0 = ROOT.TCanvas(\"cu0\",\"cu0\",800,600)\n",
    "tree.Draw(\"(part.fParamInRot[0].fP[0]-part.fParamMC[0].fP[0])/sqrt(part.fParamInRot[0].fC[0])>>htempu0(100,-6,6)\",\"part.fParamInRot[0].fC[0]!=0&&fParamMC[0].fP[4]!=0&&lArmMC>50\")\n",
    "hu0 = ROOT.gPad.GetPrimitive(\"htempu0\")\n",
    "hu0.SetTitle(\";(p0_{MC}-p0_{reco})/sqrt(C00); n_{ev}\")\n",
    "hu0.Fit(\"gaus\")\n",
    "hu0.Draw()\n",
    "cu0.Draw()\n",
    "cu0.SaveAs(folder+Recotype+\"/Plots/\"+sample+ParamType+\"UnitKF0.png\")\n",
    "\n",
    "cu1 = ROOT.TCanvas(\"cu1\",\"cu1\",800,600)\n",
    "tree.Draw(\"(part.fParamInRot[0].fP[1]-part.fParamMC[0].fP[1])/sqrt(part.fParamInRot[0].fC[2])>>htempu1(100,-6,6)\",\"part.fParamInRot[0].fC[2]!=0&&fParamMC[0].fP[4]!=0&&lArmMC>50\")\n",
    "hu1 = ROOT.gPad.GetPrimitive(\"htempu1\")\n",
    "hu1.SetTitle(\";(p1_{MC}-p1_{reco})/sqrt(C11); n_{ev}\")\n",
    "hu1.Fit(\"gaus\")\n",
    "hu1.Draw()\n",
    "cu1.Draw()\n",
    "cu1.SaveAs(folder+Recotype+\"/Plots/\"+sample+ParamType+\"UnitKF1.png\")\n",
    "\n",
    "cu2 = ROOT.TCanvas(\"cu2\",\"cu2\",800,600)\n",
    "tree.Draw(\"(part.fParamInRot[0].fP[2]-part.fParamMC[0].fP[2])/sqrt(part.fParamInRot[0].fC[5])>>htempu2(100,-6,6)\",\"part.fParamInRot[0].fC[5]!=0&&fParamMC[0].fP[4]!=0&&lArmMC>50\")\n",
    "hu2 = ROOT.gPad.GetPrimitive(\"htempu2\")\n",
    "hu2.SetTitle(\";(p2_{MC}-p2_{reco})/sqrt(C22); n_{ev}\")\n",
    "hu2.Fit(\"gaus\")\n",
    "hu2.Draw()\n",
    "cu2.Draw()\n",
    "cu2.SaveAs(folder+Recotype+\"/Plots/\"+sample+ParamType+\"UnitKF2.png\")\n",
    "\n",
    "cu3 = ROOT.TCanvas(\"cu3\",\"cu3\",800,600)\n",
    "tree.Draw(\"(part.fParamInRot[0].fP[3]-part.fParamMC[0].fP[3])/sqrt(part.fParamInRot[0].fC[9])>>htempu3(100,-6,6)\",\"part.fParamInRot[0].fC[9]!=0&&fParamMC[0].fP[4]!=0&&lArmMC>50\")\n",
    "hu3 = ROOT.gPad.GetPrimitive(\"htempu3\")\n",
    "hu3.SetTitle(\";(p3_{MC}-p3_{reco})/sqrt(C33); n_{ev}\")\n",
    "hu3.Fit(\"gaus\")\n",
    "hu3.Draw()\n",
    "cu3.Draw()\n",
    "cu3.SaveAs(folder+Recotype+\"/Plots/\"+sample+ParamType+\"UnitKF3.png\")\n",
    "\n",
    "cu4 = ROOT.TCanvas(\"cu4\",\"cu4\",800,600)\n",
    "tree.Draw(\"(part.fParamInRot[0].fP[4]-part.fParamMC[0].fP[4])/sqrt(part.fParamInRot[0].fC[14])>>htempu4(100,-6,6)\",\"part.fParamInRot[0].fC[14]!=0&&fParamMC[0].fP[4]!=0&&lArmMC>50\")\n",
    "hu4 = ROOT.gPad.GetPrimitive(\"htempu4\")\n",
    "hu4.SetTitle(\";(p4_{MC}-p4_{reco})/sqrt(C44); n_{ev}\")\n",
    "hu4.Fit(\"gaus\")\n",
    "hu4.Draw()\n",
    "cu4.Draw()\n",
    "cu4.SaveAs(folder+Recotype+\"/Plots/\"+sample+ParamType+\"UnitKF4.png\")"
   ]
  },
  {
   "attachments": {},
   "cell_type": "markdown",
   "id": "aa4de39e",
   "metadata": {},
   "source": [
    "## KF Pulls VS Variables"
   ]
  },
  {
   "attachments": {},
   "cell_type": "markdown",
   "id": "eeaae159",
   "metadata": {},
   "source": [
    "#### Pulls VS Length"
   ]
  },
  {
   "cell_type": "code",
   "execution_count": null,
   "id": "7d891e66",
   "metadata": {},
   "outputs": [],
   "source": [
    "ParamType = \"part.fParamInRot[0]\"\n",
    "ParamMCType = \"part.fParamMC[0]\"\n",
    "Var = \"part.fLengthInRot\"\n",
    "VarName = \"Length (cm)\"\n",
    "savesigma = folder+Recotype+\"/Plots/\"+sample+ParamType+\"KFPullsVsLength.png\"\n",
    "HistoXY = [\"13,0,650\",\"30,-0.5,0.5\"]\n",
    "HistoVarX = \"80,250,500\"\n",
    "rangeuserYsigma = [0.0,]\n",
    "extracond = \"part.fParamMC@.size()>50\"\n",
    "\n",
    "if(Interaction):\n",
    "    HistoXY = [\"13,0,650\",\"30,-6,6\"]\n",
    "    HistoVarX = \"65,0,650\"\n",
    "    rangeuserYsigma = [0,4]\n",
    "\n",
    "Plot_prof_Unit(tree,ParamType,ParamMCType,Var,VarName,HistoXY[0],HistoXY[1],HistoVarX,rangeuserYsigma,savesigma,extracond)"
   ]
  },
  {
   "attachments": {},
   "cell_type": "markdown",
   "id": "1c1d6c6a",
   "metadata": {},
   "source": [
    "#### Pulls VS LArm"
   ]
  },
  {
   "cell_type": "code",
   "execution_count": null,
   "id": "e34c27a7",
   "metadata": {},
   "outputs": [],
   "source": [
    "tree.SetAlias(\"yend\",\"part.fParamMC[fParamMC@.size()-1].fX*sin(part.fParamMC[fParamMC@.size()-1].fAlpha)+part.fParamMC[fParamMC@.size()-1].fP[0]*cos(part.fParamMC[fParamMC@.size()-1].fAlpha)\")\n",
    "tree.SetAlias(\"ystart\",\"part.fParamMC[0].fX*sin(part.fParamMC[0].fAlpha)+part.fParamMC[0].fP[0]*cos(part.fParamMC[0].fAlpha)\")\n",
    "tree.SetAlias(\"xend\",\"part.fParamMC[fParamMC@.size()-1].fX*cos(part.fParamMC[fParamMC@.size()-1].fAlpha)-part.fParamMC[fParamMC@.size()-1].fP[0]*sin(part.fParamMC[fParamMC@.size()-1].fAlpha)\")\n",
    "tree.SetAlias(\"xstart\",\"part.fParamMC[0].fX*cos(part.fParamMC[0].fAlpha)-part.fParamMC[0].fP[0]*sin(part.fParamMC[0].fAlpha)\")\n",
    "tree.SetAlias(\"lArmMC\",\"sqrt((xend-xstart)*(xend-xstart)+(yend-ystart)*(yend-ystart))\")\n",
    "\n",
    "ParamType = \"part.fParamInRot[0]\"\n",
    "ParamMCType = \"part.fParamMC[0]\"\n",
    "Var = \"lArmMC\"\n",
    "VarName = \"LArm (cm)\"\n",
    "savesigma = folder+Recotype+\"/Plots/\"+sample+ParamType+\"KFPullsVsLArm.png\"\n",
    "HistoXY = [\"10,250,500\",\"30,-0.5,0.5\"]\n",
    "HistoVarX = \"80,250,500\"\n",
    "rangeuserYsigma = [0.0,]\n",
    "\n",
    "if(Interaction):\n",
    "    HistoXY = [\"10,0,500\",\"30,-6,6\"]\n",
    "    HistoVarX = \"80,0,500\"\n",
    "    rangeuserYsigma = [0,2]\n",
    "\n",
    "Plot_prof_Unit(tree,ParamType,ParamMCType,Var,VarName,HistoXY[0],HistoXY[1],HistoVarX,rangeuserYsigma,savesigma,extracond)\n",
    "\n",
    "\n"
   ]
  },
  {
   "attachments": {},
   "cell_type": "markdown",
   "id": "f7b70e0d",
   "metadata": {},
   "source": [
    "#### Pulls VS NPoints"
   ]
  },
  {
   "cell_type": "code",
   "execution_count": null,
   "id": "58217435",
   "metadata": {},
   "outputs": [],
   "source": [
    "tree.SetAlias(\"NPoints\",\"part.fParamMC@.size()\")\n",
    "\n",
    "ParamType = \"part.fParamInRot[0]\"\n",
    "ParamMCType = \"part.fParamMC[0]\"\n",
    "Var = \"NPoints\"\n",
    "VarName = \"NPoints\"\n",
    "savesigma = folder+Recotype+\"/Plots/\"+sample+ParamType+\"KFPullsVsNPoints.png\"\n",
    "HistoXY = [\"10,250,500\",\"30,-0.5,0.5\"]\n",
    "HistoVarX = \"80,250,550\"\n",
    "rangeuserYsigma = [0.0,]\n",
    "\n",
    "if(Interaction):\n",
    "    HistoXY = [\"10,0,5000\",\"30,-6,6\"]\n",
    "    HistoVarX = \"80,0,2400\"\n",
    "    rangeuserYsigma = [0,1.5]\n",
    "\n",
    "Plot_prof_Unit(tree,ParamType,ParamMCType,Var,VarName,HistoXY[0],HistoXY[1],HistoVarX,rangeuserYsigma,savesigma,extracond)"
   ]
  },
  {
   "attachments": {},
   "cell_type": "markdown",
   "id": "6106a937",
   "metadata": {},
   "source": [
    "### Pulls Vs Total Momentum"
   ]
  },
  {
   "cell_type": "code",
   "execution_count": null,
   "id": "1dfdf5a1",
   "metadata": {},
   "outputs": [],
   "source": [
    "ParamType = \"part.fParamInRot[0]\"\n",
    "ParamMCType = \"part.fParamMC[0]\"\n",
    "Var = \"part.fParamMC[0].GetP()\"\n",
    "VarName = \"p (GeV/c)\"\n",
    "savesigma = folder+Recotype+\"/Plots/\"+sample+ParamType+\"KFPullsVsTotalp.png\"\n",
    "HistoXY = [\"10,250,500\",\"30,-0.5,0.5\"]\n",
    "HistoVarX = \"80,250,550\"\n",
    "rangeuserYsigma = [0.0,]\n",
    "\n",
    "if(Interaction):\n",
    "    HistoXY = [\"13,0,6.5\",\"30,-6,6\"]\n",
    "    HistoVarX = \"80,0,6.5\"\n",
    "    rangeuserYsigma = [0,4]\n",
    "\n",
    "Plot_prof_Unit(tree,ParamType,ParamMCType,Var,VarName,HistoXY[0],HistoXY[1],HistoVarX,rangeuserYsigma,savesigma)"
   ]
  },
  {
   "attachments": {},
   "cell_type": "markdown",
   "id": "c7e48620",
   "metadata": {},
   "source": [
    "### Pulls VS pT"
   ]
  },
  {
   "cell_type": "code",
   "execution_count": null,
   "id": "0e70cda8",
   "metadata": {},
   "outputs": [],
   "source": [
    "ParamType = \"part.fParamInRot[0]\"\n",
    "ParamMCType = \"part.fParamMC[0]\"\n",
    "Var = \"1/abs(part.fParamMC[0].fP[4])\"\n",
    "VarName = \"pT (GeV/c)\"\n",
    "savesigma = folder+Recotype+\"/Plots/\"+sample+ParamType+\"KFPullsVspT.png\"\n",
    "HistoXY = [\"10,250,500\",\"30,-0.5,0.5\"]\n",
    "HistoVarX = \"80,250,550\"\n",
    "rangeuserYsigma = [0.0,]\n",
    "\n",
    "if(Interaction):\n",
    "    HistoXY = [\"13,0,6.5\",\"30,-6,6\"]\n",
    "    HistoVarX = \"80,0,6.5\"\n",
    "    rangeuserYsigma = [0,2.5]\n",
    "\n",
    "Plot_prof_Unit(tree,ParamType,ParamMCType,Var,VarName,HistoXY[0],HistoXY[1],HistoVarX,rangeuserYsigma,savesigma)"
   ]
  }
 ],
 "metadata": {
  "kernelspec": {
   "display_name": "Python 3 (ipykernel)",
   "language": "python",
   "name": "python3"
  },
  "language_info": {
   "codemirror_mode": {
    "name": "ipython",
    "version": 3
   },
   "file_extension": ".py",
   "mimetype": "text/x-python",
   "name": "python",
   "nbconvert_exporter": "python",
   "pygments_lexer": "ipython3",
   "version": "3.10.6"
  },
  "vscode": {
   "interpreter": {
    "hash": "916dbcbb3f70747c44a77c7bcd40155683ae19c65e1c03b4aa3499c5328201f1"
   }
  }
 },
 "nbformat": 4,
 "nbformat_minor": 5
}
