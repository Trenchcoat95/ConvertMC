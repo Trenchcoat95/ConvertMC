{
 "cells": [
  {
   "cell_type": "code",
   "execution_count": null,
   "id": "ethical-summit",
   "metadata": {},
   "outputs": [],
   "source": [
    "import numpy as np\n",
    "import pandas as pd\n",
    "import matplotlib.pyplot as plt\n",
    "from array import array\n",
    "import os\n",
    "import sys\n",
    "import ROOT\n",
    "from Plot_func import Plot_prof_InRot\n",
    "from ROOT import TVectorD, TMatrix, TMath, TVector3, TGraphErrors, TFile, TTree, gRandom, gPad, gROOT, gVirtualX, kTRUE, kRed, TProfile, gStyle,  TFile, gSystem\n",
    "import sys \n",
    "import os\n",
    "sys.path.append(os.path.abspath(\"/home/federico/Documents/Universita/Federico_2020-2021/Aliwork/fastMCKalman/fastMCKalman/MC/\"))\n",
    "from fastSimulation import *"
   ]
  },
  {
   "attachments": {},
   "cell_type": "markdown",
   "id": "f1e087ee",
   "metadata": {},
   "source": [
    "# Reading the files"
   ]
  },
  {
   "cell_type": "code",
   "execution_count": null,
   "id": "toxic-celebration",
   "metadata": {},
   "outputs": [],
   "source": [
    "folder=\"/home/federico/Documents/Universita/Federico_2020-2021/Aliwork/ConvertMC/\"\n",
    "Recotype = \"FullRecoInteraction\"\n",
    "Interaction = True\n",
    "ParamType = \"InRot\"\n",
    "Particletype = \"_211\"\n",
    "ParamStType = \"\"\n",
    "if(ParamType==\"InRot\") : ParamStType = \"NoRot\"\n",
    "\n",
    "sample = \"Rangetest_\"\n",
    "inputData = folder+Recotype+\"/fastParticle211.list\"\n",
    "ROOT.initTreeFast(inputData)\n",
    "tree = ROOT.treeFast\n",
    "treeSeed = ROOT.treeSeed\n"
   ]
  },
  {
   "attachments": {},
   "cell_type": "markdown",
   "id": "d93efa0a",
   "metadata": {},
   "source": [
    "## Resolution and bias as function of variables"
   ]
  },
  {
   "attachments": {},
   "cell_type": "markdown",
   "id": "355366cb",
   "metadata": {},
   "source": [
    "### Length"
   ]
  },
  {
   "cell_type": "code",
   "execution_count": null,
   "id": "1e398831",
   "metadata": {},
   "outputs": [],
   "source": [
    "Var = \"fLengthInRot\"\n",
    "VarName = \"Length (cm)\"\n",
    "legend = [\"GArSoft Resolution\",\"NewKF Resolution\"]\n",
    "param = [\"paramStNoRot\",\"fParamInRot[0]\"]\n",
    "savesigma = folder+Recotype+\"/Plots/\"+sample+ParamType+\"RespVsLength\"+Particletype+\".png\"\n",
    "savemean = folder+Recotype+\"/Plots/\"+sample+ParamType+\"BiaspVsLength\"+Particletype+\".png\"\n",
    "HistoXY = [\"10,300,550\",\"30,-0.5,0.5\"]\n",
    "HistoVarX = \"80,300,550\"\n",
    "rangeuserYsigma = [0.01,0.04]\n",
    "rangeuserYmean = [-0.02,0.02]\n",
    "\n",
    "if(Interaction):\n",
    "    HistoXY = [\"7,0,700\",\"30,-0.5,0.5\"]\n",
    "    HistoVarX = \"80,0,700\"\n",
    "    rangeuserYsigma = [0.0,0.12]\n",
    "    rangeuserYmean = [-0.06,0.06]\n",
    "\n",
    "\n",
    "Plot_prof_InRot(tree,param[0],param[1],Var,VarName,HistoXY[0],HistoXY[1],HistoVarX,legend[0],legend[1],rangeuserYsigma,rangeuserYmean,savesigma,savemean,\"&&fParamMC@.size()>50\")"
   ]
  },
  {
   "attachments": {},
   "cell_type": "markdown",
   "id": "ac4a2641",
   "metadata": {},
   "source": [
    "### LArm"
   ]
  },
  {
   "cell_type": "code",
   "execution_count": null,
   "id": "f7a7344e",
   "metadata": {},
   "outputs": [],
   "source": [
    "tree.SetAlias(\"yend\",\"part.fParamMC[fParamMC@.size()-1].fX*sin(part.fParamMC[fParamMC@.size()-1].fAlpha)+part.fParamMC[fParamMC@.size()-1].fP[0]*cos(part.fParamMC[fParamMC@.size()-1].fAlpha)\")\n",
    "tree.SetAlias(\"ystart\",\"part.fParamMC[0].fX*sin(part.fParamMC[0].fAlpha)+part.fParamMC[0].fP[0]*cos(part.fParamMC[0].fAlpha)\")\n",
    "tree.SetAlias(\"xend\",\"part.fParamMC[fParamMC@.size()-1].fX*cos(part.fParamMC[fParamMC@.size()-1].fAlpha)-part.fParamMC[fParamMC@.size()-1].fP[0]*sin(part.fParamMC[fParamMC@.size()-1].fAlpha)\")\n",
    "tree.SetAlias(\"xstart\",\"part.fParamMC[0].fX*cos(part.fParamMC[0].fAlpha)-part.fParamMC[0].fP[0]*sin(part.fParamMC[0].fAlpha)\")\n",
    "tree.SetAlias(\"lArmMC\",\"sqrt((xend-xstart)*(xend-xstart)+(yend-ystart)*(yend-ystart))\")\n",
    "\n",
    "param = [\"paramStNoRot\",\"fParamInRot[0]\"]\n",
    "Var = \"lArmMC\"\n",
    "VarName = \"LArm (cm)\"\n",
    "legend = [\"GArSoft Resolution\",\"NewKF Resolution\"]\n",
    "savesigma = folder+Recotype+\"/Plots/\"+sample+ParamType+\"RespVsLArm\"+Particletype+\".png\"\n",
    "savemean = folder+Recotype+\"/Plots/\"+sample+ParamType+\"BiaspVsLArm\"+Particletype+\".png\"\n",
    "HistoXY = [\"10,250,500\",\"30,-0.5,0.5\"]\n",
    "HistoVarX = \"80,250,500\"\n",
    "rangeuserYsigma = [0.01,0.04]\n",
    "rangeuserYmean = [-0.02,0.02]\n",
    "\n",
    "if(Interaction):\n",
    "    HistoXY = [\"9,0,450\",\"30,-0.5,0.5\"]\n",
    "    HistoVarX = \"80,0,450\"\n",
    "    rangeuserYsigma = [0.0,0.15]\n",
    "    rangeuserYmean = [-0.06,0.06]\n",
    "\n",
    "\n",
    "Plot_prof_InRot(tree,param[0],param[1],Var,VarName,HistoXY[0],HistoXY[1],HistoVarX,legend[0],legend[1],rangeuserYsigma,rangeuserYmean,savesigma,savemean,\"&&fParamMC@.size()>50\")"
   ]
  },
  {
   "attachments": {},
   "cell_type": "markdown",
   "id": "b6d860be",
   "metadata": {},
   "source": [
    "### NPoints"
   ]
  },
  {
   "cell_type": "code",
   "execution_count": null,
   "id": "ff496890",
   "metadata": {},
   "outputs": [],
   "source": [
    "tree.SetAlias(\"NPoints\",\"part.fParamMC@.size()\")\n",
    "\n",
    "Var = \"NPoints\"\n",
    "VarName = \"NPoints\"\n",
    "legend = [\"GArSoft Resolution\",\"NewKF Resolution\"]\n",
    "savesigma = folder+Recotype+\"/Plots/\"+sample+ParamType+\"RespVsNPoints\"+Particletype+\".png\"\n",
    "savemean = folder+Recotype+\"/Plots/\"+sample+ParamType+\"BiaspVsNPoints\"+Particletype+\".png\"\n",
    "HistoXY = [\"7,200,550\",\"30,-0.6,0.6\"]\n",
    "HistoVarX = \"80,200,550\"\n",
    "rangeuserYsigma = [0.01,0.04]\n",
    "rangeuserYmean = [-0.02,0.02]\n",
    "\n",
    "if(Interaction):\n",
    "    HistoXY = [\"7,0,700\",\"50,-0.6,0.6\"]\n",
    "    HistoVarX = \"80,0,700\"\n",
    "    rangeuserYsigma = [0.0,0.1]\n",
    "    rangeuserYmean = [-0.03,0.03]\n",
    "\n",
    "\n",
    "\n",
    "Plot_prof_InRot(tree,param[0],param[1],Var,VarName,HistoXY[0],HistoXY[1],HistoVarX,legend[0],legend[1],rangeuserYsigma,rangeuserYmean,savesigma,savemean,\"&&fParamMC@.size()>50\")"
   ]
  },
  {
   "attachments": {},
   "cell_type": "markdown",
   "id": "49a69917",
   "metadata": {},
   "source": [
    "### Total p"
   ]
  },
  {
   "cell_type": "code",
   "execution_count": null,
   "id": "0b35a76a",
   "metadata": {},
   "outputs": [],
   "source": [
    "Var = \"fParamMC[0].GetP()\"\n",
    "VarName = \"p (GeV/c)\"\n",
    "legend = [\"GArSoft Resolution\",\"NewKF Resolution\"]\n",
    "savesigma = folder+Recotype+\"/Plots/\"+sample+ParamType+\"RespVstotalp\"+Particletype+\".png\"\n",
    "savemean = folder+Recotype+\"/Plots/\"+sample+ParamType+\"BiaspVsTotalp\"+Particletype+\".png\"\n",
    "HistoXY = [\"10,0.5,3\",\"50,-0.4,0.4\"]\n",
    "HistoVarX = \"80,0.5,3\"\n",
    "rangeuserYsigma = [0.01,0.035]\n",
    "rangeuserYmean = [-0.02,0.02]\n",
    "\n",
    "if(Interaction):\n",
    "    HistoXY = [\"5,0.0,2.5\",\"50,-0.4,0.4\"]\n",
    "    HistoVarX = \"80,0.0,2.5\"\n",
    "    rangeuserYsigma = [0.0,0.08]\n",
    "    rangeuserYmean = [-0.05,0.05]\n",
    "\n",
    "Plot_prof_InRot(tree,param[0],param[1],Var,VarName,HistoXY[0],HistoXY[1],HistoVarX,legend[0],legend[1],rangeuserYsigma,rangeuserYmean,savesigma,savemean,\"&&fParamMC@.size()>50\")"
   ]
  },
  {
   "attachments": {},
   "cell_type": "markdown",
   "id": "1de2d453",
   "metadata": {},
   "source": [
    "### pT"
   ]
  },
  {
   "cell_type": "code",
   "execution_count": null,
   "id": "ca05aa76",
   "metadata": {},
   "outputs": [],
   "source": [
    "Var = \"(1/abs(fParamMC[0].fP[4]))\"\n",
    "VarName = \"pT (GeV/c)\"\n",
    "legend = [\"GArSoft Resolution\",\"NewKF Resolution\"]\n",
    "savesigma = folder+Recotype+\"/Plots/\"+sample+ParamType+\"RespVspT\"+Particletype+\".png\"\n",
    "savemean = folder+Recotype+\"/Plots/\"+sample+ParamType+\"BiaspVspT\"+Particletype+\".png\"\n",
    "HistoXY = [\"10,0.5,3\",\"50,-0.4,0.4\"]\n",
    "HistoVarX = \"80,0.5,3\"\n",
    "rangeuserYsigma = [0.01,0.06]\n",
    "rangeuserYmean = [-0.02,0.02]\n",
    "\n",
    "if(Interaction):\n",
    "    HistoXY = [\"10,0.2,2.2\",\"50,-0.4,0.4\"]\n",
    "    HistoVarX = \"80,0.2,2.2\"\n",
    "    rangeuserYsigma = [0.0,0.16]\n",
    "    rangeuserYmean = [-0.1,0.2]\n",
    "\n",
    "Plot_prof_InRot(tree,param[0],param[1],Var,VarName,HistoXY[0],HistoXY[1],HistoVarX,legend[0],legend[1],rangeuserYsigma,rangeuserYmean,savesigma,savemean,\"&&fParamMC@.size()>50\")"
   ]
  },
  {
   "attachments": {},
   "cell_type": "markdown",
   "id": "2e49fb2f",
   "metadata": {},
   "source": [
    "### 1/pT"
   ]
  },
  {
   "cell_type": "code",
   "execution_count": null,
   "id": "4108f9f1",
   "metadata": {},
   "outputs": [],
   "source": [
    "Var = \"(abs(fParamMC[0].fP[4]))\"\n",
    "VarName = \"1/pT (GeV/c)^{-1}\"\n",
    "legend = [\"GArSoft Resolution\",\"NewKF Resolution\"]\n",
    "savesigma = folder+Recotype+\"/Plots/\"+sample+ParamType+\"RespVspTinv\"+Particletype+\".png\"\n",
    "savemean = folder+Recotype+\"/Plots/\"+sample+ParamType+\"BiaspVspTinv\"+Particletype+\".png\"\n",
    "HistoXY = [\"10,0.5,3\",\"50,-0.4,0.4\"]\n",
    "HistoVarX = \"80,0.5,3\"\n",
    "rangeuserYsigma = [0.01,0.06]\n",
    "rangeuserYmean = [-0.02,0.02]\n",
    "\n",
    "if(Interaction):\n",
    "    HistoXY = [\"12,0,12\",\"60,-0.6,0.6\"]\n",
    "    HistoVarX = \"80,0,12\"\n",
    "    rangeuserYsigma = [0.0,0.1]\n",
    "    rangeuserYmean = [-0.05,0.1]\n",
    "\n",
    "Plot_prof_InRot(tree,param[0],param[1],Var,VarName,HistoXY[0],HistoXY[1],HistoVarX,legend[0],legend[1],rangeuserYsigma,rangeuserYmean,savesigma,savemean,\"&&fParamMC@.size()>50\")"
   ]
  },
  {
   "cell_type": "markdown",
   "id": "6c0fb7a8",
   "metadata": {},
   "source": [
    "### Length/2PiR"
   ]
  },
  {
   "cell_type": "code",
   "execution_count": null,
   "id": "68e3bf35",
   "metadata": {},
   "outputs": [],
   "source": [
    "tree.SetAlias(\"Radius0MC\",\"1/abs(part.fParamMC[0].fP[4]*5*0.0003)\")\n",
    "tree.SetAlias(\"Length_Circ\",\"fLengthInRot/(2*TMath::Pi()*Radius0MC)\")\n",
    "\n",
    "Var = \"Length_Circ\"\n",
    "VarName = \"Length/2#piR\"\n",
    "legend = [\"GArSoft Resolution\",\"NewKF Resolution\"]\n",
    "savesigma = folder+Recotype+\"/Plots/\"+sample+ParamType+\"RespVsLength_Circ\"+Particletype+\".png\"\n",
    "savemean = folder+Recotype+\"/Plots/\"+sample+ParamType+\"BiaspVsLength_Circ\"+Particletype+\".png\"\n",
    "HistoXY = [\"10,0.5,3\",\"50,-0.4,0.4\"]\n",
    "HistoVarX = \"80,0.5,3\"\n",
    "rangeuserYsigma = [0.01,0.06]\n",
    "rangeuserYmean = [-0.02,0.02]\n",
    "\n",
    "if(Interaction):\n",
    "    HistoXY = [\"12,0,0.6\",\"50,-0.25,0.2\"]\n",
    "    HistoVarX = \"80,0,0.6\"\n",
    "    rangeuserYsigma = [0.0,0.4]\n",
    "    rangeuserYmean = [-0.2,0.2]\n",
    "\n",
    "Plot_prof_InRot(tree,param[0],param[1],Var,VarName,HistoXY[0],HistoXY[1],HistoVarX,legend[0],legend[1],rangeuserYsigma,rangeuserYmean,savesigma,savemean,\"&&fParamMC@.size()>50\")"
   ]
  },
  {
   "cell_type": "markdown",
   "id": "fad3da74",
   "metadata": {},
   "source": [
    "### Length/LArm "
   ]
  },
  {
   "cell_type": "code",
   "execution_count": null,
   "id": "ad9ba32a",
   "metadata": {},
   "outputs": [],
   "source": [
    "tree.SetAlias(\"yend\",\"part.fParamMC[fParamMC@.size()-1].fX*sin(part.fParamMC[fParamMC@.size()-1].fAlpha)+part.fParamMC[fParamMC@.size()-1].fP[0]*cos(part.fParamMC[fParamMC@.size()-1].fAlpha)\")\n",
    "tree.SetAlias(\"ystart\",\"part.fParamMC[0].fX*sin(part.fParamMC[0].fAlpha)+part.fParamMC[0].fP[0]*cos(part.fParamMC[0].fAlpha)\")\n",
    "tree.SetAlias(\"xend\",\"part.fParamMC[fParamMC@.size()-1].fX*cos(part.fParamMC[fParamMC@.size()-1].fAlpha)-part.fParamMC[fParamMC@.size()-1].fP[0]*sin(part.fParamMC[fParamMC@.size()-1].fAlpha)\")\n",
    "tree.SetAlias(\"xstart\",\"part.fParamMC[0].fX*cos(part.fParamMC[0].fAlpha)-part.fParamMC[0].fP[0]*sin(part.fParamMC[0].fAlpha)\")\n",
    "tree.SetAlias(\"lArmMC\",\"sqrt((xend-xstart)*(xend-xstart)+(yend-ystart)*(yend-ystart))\")\n",
    "tree.SetAlias(\"Length_LArm\",\"fLengthInRot/lArmMC\")\n",
    "\n",
    "Var = \"Length_LArm\"\n",
    "VarName = \"Length/lArmMC\"\n",
    "legend = [\"GArSoft Resolution\",\"NewKF Resolution\"]\n",
    "savesigma = folder+Recotype+\"/Plots/\"+sample+ParamType+\"RespVsLength_lArmMC\"+Particletype+\".png\"\n",
    "savemean = folder+Recotype+\"/Plots/\"+sample+ParamType+\"RespVsLength_lArmMC\"+Particletype+\".png\"\n",
    "HistoXY = [\"10,0.5,3\",\"50,-0.4,0.4\"]\n",
    "HistoVarX = \"80,0.5,3\"\n",
    "rangeuserYsigma = [0.01,0.06]\n",
    "rangeuserYmean = [-0.02,0.02]\n",
    "\n",
    "if(Interaction):\n",
    "    HistoXY = [\"8,1,2\",\"50,-0.25,0.2\"]\n",
    "    HistoVarX = \"80,1,2\"\n",
    "    rangeuserYsigma = [0.0,0.15]\n",
    "    rangeuserYmean = [-0.05,0.05]\n",
    "\n",
    "Plot_prof_InRot(tree,param[0],param[1],Var,VarName,HistoXY[0],HistoXY[1],HistoVarX,legend[0],legend[1],rangeuserYsigma,rangeuserYmean,savesigma,savemean,\"&&fParamMC@.size()>50\")"
   ]
  }
 ],
 "metadata": {
  "kernelspec": {
   "display_name": "Python 3 (ipykernel)",
   "language": "python",
   "name": "python3"
  },
  "language_info": {
   "codemirror_mode": {
    "name": "ipython",
    "version": 3
   },
   "file_extension": ".py",
   "mimetype": "text/x-python",
   "name": "python",
   "nbconvert_exporter": "python",
   "pygments_lexer": "ipython3",
   "version": "3.10.6"
  },
  "vscode": {
   "interpreter": {
    "hash": "916dbcbb3f70747c44a77c7bcd40155683ae19c65e1c03b4aa3499c5328201f1"
   }
  }
 },
 "nbformat": 4,
 "nbformat_minor": 5
}
